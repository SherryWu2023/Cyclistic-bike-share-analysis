{
 "cells": [
  {
   "cell_type": "markdown",
   "id": "741d4a2a",
   "metadata": {},
   "source": [
    "# Cyclistic membership prediction models comparison"
   ]
  },
  {
   "cell_type": "markdown",
   "id": "712e36b9",
   "metadata": {},
   "source": [
    "## Introduction"
   ]
  },
  {
   "cell_type": "markdown",
   "id": "2b1bbc23",
   "metadata": {},
   "source": [
    "This project is about a bike-share company called Cyclistic,whose marketing team needs to use digital marketing to encourage casual riders to become members.They need to know who are more likely to become members,so we are comparing the performances of different models,including logistic regression,decision trees and random forest."
   ]
  },
  {
   "cell_type": "markdown",
   "id": "fed3ae3d",
   "metadata": {},
   "source": [
    "## Data Description"
   ]
  },
  {
   "cell_type": "markdown",
   "id": "13bad921",
   "metadata": {},
   "source": [
    "The dataset comes from Google Data Analytics certificate course and for the purposes of a case study.The data has been made available by Motivate International Inc. under this\n",
    "license(https://divvybikes.com/data-license-agreement).\n",
    "For this project,the data is given for the whole 2023."
   ]
  },
  {
   "cell_type": "code",
   "execution_count": 49,
   "id": "e3ef0397",
   "metadata": {},
   "outputs": [],
   "source": [
    "import pandas as pd\n",
    "import numpy as np\n",
    "import matplotlib.pyplot as plt\n",
    "from sklearn.utils import resample\n",
    "from sklearn.model_selection import train_test_split\n",
    "from sklearn.linear_model import LogisticRegression\n",
    "from sklearn.tree import DecisionTreeClassifier\n",
    "from sklearn.ensemble import RandomForestClassifier\n",
    "from sklearn import metrics\n",
    "from sklearn.metrics import classification_report,accuracy_score\n",
    "from sklearn.metrics import confusion_matrix, ConfusionMatrixDisplay\n"
   ]
  },
  {
   "cell_type": "code",
   "execution_count": 2,
   "id": "f6db4833",
   "metadata": {},
   "outputs": [],
   "source": [
    "#Combine 12 monthly csv files into one dataframe\n",
    "\n",
    "file_names=[r\"C:\\Users\\syuan\\OneDrive\\바탕 화면\\DA\\cyclist_share_project\\202301-divvy-tripdata.csv\",\n",
    "            r\"C:\\Users\\syuan\\OneDrive\\바탕 화면\\DA\\cyclist_share_project\\202302-divvy-tripdata.csv\",\n",
    "            r\"C:\\Users\\syuan\\OneDrive\\바탕 화면\\DA\\cyclist_share_project\\202303-divvy-tripdata.csv\",\n",
    "            r\"C:\\Users\\syuan\\OneDrive\\바탕 화면\\DA\\cyclist_share_project\\202304-divvy-tripdata.csv\",\n",
    "            r\"C:\\Users\\syuan\\OneDrive\\바탕 화면\\DA\\cyclist_share_project\\202305-divvy-tripdata.csv\",\n",
    "            r\"C:\\Users\\syuan\\OneDrive\\바탕 화면\\DA\\cyclist_share_project\\202306-divvy-tripdata.csv\",\n",
    "            r\"C:\\Users\\syuan\\OneDrive\\바탕 화면\\DA\\cyclist_share_project\\202307-divvy-tripdata.csv\",\n",
    "            r\"C:\\Users\\syuan\\OneDrive\\바탕 화면\\DA\\cyclist_share_project\\202308-divvy-tripdata.csv\",\n",
    "            r\"C:\\Users\\syuan\\OneDrive\\바탕 화면\\DA\\cyclist_share_project\\202309-divvy-tripdata.csv\",\n",
    "            r\"C:\\Users\\syuan\\OneDrive\\바탕 화면\\DA\\cyclist_share_project\\202310-divvy-tripdata.csv\",\n",
    "            r\"C:\\Users\\syuan\\OneDrive\\바탕 화면\\DA\\cyclist_share_project\\202311-divvy-tripdata.csv\",\n",
    "            r\"C:\\Users\\syuan\\OneDrive\\바탕 화면\\DA\\cyclist_share_project\\202312-divvy-tripdata.csv\"]\n",
    "dfs = []\n",
    "for file in file_names:\n",
    "    df = pd.read_csv(file)\n",
    "    dfs.append(df)\n",
    "\n",
    "combined_df = pd.concat(dfs, ignore_index=True)"
   ]
  },
  {
   "cell_type": "code",
   "execution_count": 3,
   "id": "928fe854",
   "metadata": {},
   "outputs": [
    {
     "data": {
      "text/html": [
       "<div>\n",
       "<style scoped>\n",
       "    .dataframe tbody tr th:only-of-type {\n",
       "        vertical-align: middle;\n",
       "    }\n",
       "\n",
       "    .dataframe tbody tr th {\n",
       "        vertical-align: top;\n",
       "    }\n",
       "\n",
       "    .dataframe thead th {\n",
       "        text-align: right;\n",
       "    }\n",
       "</style>\n",
       "<table border=\"1\" class=\"dataframe\">\n",
       "  <thead>\n",
       "    <tr style=\"text-align: right;\">\n",
       "      <th></th>\n",
       "      <th>ride_id</th>\n",
       "      <th>rideable_type</th>\n",
       "      <th>started_at</th>\n",
       "      <th>ended_at</th>\n",
       "      <th>start_station_name</th>\n",
       "      <th>start_station_id</th>\n",
       "      <th>end_station_name</th>\n",
       "      <th>end_station_id</th>\n",
       "      <th>start_lat</th>\n",
       "      <th>start_lng</th>\n",
       "      <th>end_lat</th>\n",
       "      <th>end_lng</th>\n",
       "      <th>member_casual</th>\n",
       "    </tr>\n",
       "  </thead>\n",
       "  <tbody>\n",
       "    <tr>\n",
       "      <th>0</th>\n",
       "      <td>F96D5A74A3E41399</td>\n",
       "      <td>electric_bike</td>\n",
       "      <td>2023-01-21 20:05:42</td>\n",
       "      <td>2023-01-21 20:16:33</td>\n",
       "      <td>Lincoln Ave &amp; Fullerton Ave</td>\n",
       "      <td>TA1309000058</td>\n",
       "      <td>Hampden Ct &amp; Diversey Ave</td>\n",
       "      <td>202480.0</td>\n",
       "      <td>41.924074</td>\n",
       "      <td>-87.646278</td>\n",
       "      <td>41.930000</td>\n",
       "      <td>-87.640000</td>\n",
       "      <td>member</td>\n",
       "    </tr>\n",
       "    <tr>\n",
       "      <th>1</th>\n",
       "      <td>13CB7EB698CEDB88</td>\n",
       "      <td>classic_bike</td>\n",
       "      <td>2023-01-10 15:37:36</td>\n",
       "      <td>2023-01-10 15:46:05</td>\n",
       "      <td>Kimbark Ave &amp; 53rd St</td>\n",
       "      <td>TA1309000037</td>\n",
       "      <td>Greenwood Ave &amp; 47th St</td>\n",
       "      <td>TA1308000002</td>\n",
       "      <td>41.799568</td>\n",
       "      <td>-87.594747</td>\n",
       "      <td>41.809835</td>\n",
       "      <td>-87.599383</td>\n",
       "      <td>member</td>\n",
       "    </tr>\n",
       "    <tr>\n",
       "      <th>2</th>\n",
       "      <td>BD88A2E670661CE5</td>\n",
       "      <td>electric_bike</td>\n",
       "      <td>2023-01-02 07:51:57</td>\n",
       "      <td>2023-01-02 08:05:11</td>\n",
       "      <td>Western Ave &amp; Lunt Ave</td>\n",
       "      <td>RP-005</td>\n",
       "      <td>Valli Produce - Evanston Plaza</td>\n",
       "      <td>599</td>\n",
       "      <td>42.008571</td>\n",
       "      <td>-87.690483</td>\n",
       "      <td>42.039742</td>\n",
       "      <td>-87.699413</td>\n",
       "      <td>casual</td>\n",
       "    </tr>\n",
       "    <tr>\n",
       "      <th>3</th>\n",
       "      <td>C90792D034FED968</td>\n",
       "      <td>classic_bike</td>\n",
       "      <td>2023-01-22 10:52:58</td>\n",
       "      <td>2023-01-22 11:01:44</td>\n",
       "      <td>Kimbark Ave &amp; 53rd St</td>\n",
       "      <td>TA1309000037</td>\n",
       "      <td>Greenwood Ave &amp; 47th St</td>\n",
       "      <td>TA1308000002</td>\n",
       "      <td>41.799568</td>\n",
       "      <td>-87.594747</td>\n",
       "      <td>41.809835</td>\n",
       "      <td>-87.599383</td>\n",
       "      <td>member</td>\n",
       "    </tr>\n",
       "    <tr>\n",
       "      <th>4</th>\n",
       "      <td>3397017529188E8A</td>\n",
       "      <td>classic_bike</td>\n",
       "      <td>2023-01-12 13:58:01</td>\n",
       "      <td>2023-01-12 14:13:20</td>\n",
       "      <td>Kimbark Ave &amp; 53rd St</td>\n",
       "      <td>TA1309000037</td>\n",
       "      <td>Greenwood Ave &amp; 47th St</td>\n",
       "      <td>TA1308000002</td>\n",
       "      <td>41.799568</td>\n",
       "      <td>-87.594747</td>\n",
       "      <td>41.809835</td>\n",
       "      <td>-87.599383</td>\n",
       "      <td>member</td>\n",
       "    </tr>\n",
       "  </tbody>\n",
       "</table>\n",
       "</div>"
      ],
      "text/plain": [
       "            ride_id  rideable_type           started_at             ended_at  \\\n",
       "0  F96D5A74A3E41399  electric_bike  2023-01-21 20:05:42  2023-01-21 20:16:33   \n",
       "1  13CB7EB698CEDB88   classic_bike  2023-01-10 15:37:36  2023-01-10 15:46:05   \n",
       "2  BD88A2E670661CE5  electric_bike  2023-01-02 07:51:57  2023-01-02 08:05:11   \n",
       "3  C90792D034FED968   classic_bike  2023-01-22 10:52:58  2023-01-22 11:01:44   \n",
       "4  3397017529188E8A   classic_bike  2023-01-12 13:58:01  2023-01-12 14:13:20   \n",
       "\n",
       "            start_station_name start_station_id  \\\n",
       "0  Lincoln Ave & Fullerton Ave     TA1309000058   \n",
       "1        Kimbark Ave & 53rd St     TA1309000037   \n",
       "2       Western Ave & Lunt Ave           RP-005   \n",
       "3        Kimbark Ave & 53rd St     TA1309000037   \n",
       "4        Kimbark Ave & 53rd St     TA1309000037   \n",
       "\n",
       "                 end_station_name end_station_id  start_lat  start_lng  \\\n",
       "0       Hampden Ct & Diversey Ave       202480.0  41.924074 -87.646278   \n",
       "1         Greenwood Ave & 47th St   TA1308000002  41.799568 -87.594747   \n",
       "2  Valli Produce - Evanston Plaza            599  42.008571 -87.690483   \n",
       "3         Greenwood Ave & 47th St   TA1308000002  41.799568 -87.594747   \n",
       "4         Greenwood Ave & 47th St   TA1308000002  41.799568 -87.594747   \n",
       "\n",
       "     end_lat    end_lng member_casual  \n",
       "0  41.930000 -87.640000        member  \n",
       "1  41.809835 -87.599383        member  \n",
       "2  42.039742 -87.699413        casual  \n",
       "3  41.809835 -87.599383        member  \n",
       "4  41.809835 -87.599383        member  "
      ]
     },
     "execution_count": 3,
     "metadata": {},
     "output_type": "execute_result"
    }
   ],
   "source": [
    "combined_df.head()"
   ]
  },
  {
   "cell_type": "code",
   "execution_count": 4,
   "id": "6d2c44cd",
   "metadata": {},
   "outputs": [
    {
     "name": "stdout",
     "output_type": "stream",
     "text": [
      "<class 'pandas.core.frame.DataFrame'>\n",
      "RangeIndex: 5719877 entries, 0 to 5719876\n",
      "Data columns (total 13 columns):\n",
      " #   Column              Dtype  \n",
      "---  ------              -----  \n",
      " 0   ride_id             object \n",
      " 1   rideable_type       object \n",
      " 2   started_at          object \n",
      " 3   ended_at            object \n",
      " 4   start_station_name  object \n",
      " 5   start_station_id    object \n",
      " 6   end_station_name    object \n",
      " 7   end_station_id      object \n",
      " 8   start_lat           float64\n",
      " 9   start_lng           float64\n",
      " 10  end_lat             float64\n",
      " 11  end_lng             float64\n",
      " 12  member_casual       object \n",
      "dtypes: float64(4), object(9)\n",
      "memory usage: 567.3+ MB\n"
     ]
    }
   ],
   "source": [
    "combined_df.info()"
   ]
  },
  {
   "cell_type": "code",
   "execution_count": 5,
   "id": "633edf8c",
   "metadata": {},
   "outputs": [
    {
     "data": {
      "text/plain": [
       "ride_id                    0\n",
       "rideable_type              0\n",
       "started_at                 0\n",
       "ended_at                   0\n",
       "start_station_name    875716\n",
       "start_station_id      875848\n",
       "end_station_name      929202\n",
       "end_station_id        929343\n",
       "start_lat                  0\n",
       "start_lng                  0\n",
       "end_lat                 6990\n",
       "end_lng                 6990\n",
       "member_casual              0\n",
       "dtype: int64"
      ]
     },
     "execution_count": 5,
     "metadata": {},
     "output_type": "execute_result"
    }
   ],
   "source": [
    "#Check if there are nulls\n",
    "combined_df.isnull().sum()"
   ]
  },
  {
   "cell_type": "code",
   "execution_count": 6,
   "id": "6d0ee87e",
   "metadata": {},
   "outputs": [],
   "source": [
    "combined_df.dropna(inplace=True)"
   ]
  },
  {
   "cell_type": "code",
   "execution_count": 7,
   "id": "9b5e638a",
   "metadata": {},
   "outputs": [
    {
     "data": {
      "text/plain": [
       "0"
      ]
     },
     "execution_count": 7,
     "metadata": {},
     "output_type": "execute_result"
    }
   ],
   "source": [
    "#Check if there are duplicates\n",
    "combined_df.duplicated().sum()"
   ]
  },
  {
   "cell_type": "code",
   "execution_count": 8,
   "id": "040b28b7",
   "metadata": {},
   "outputs": [],
   "source": [
    "#Convert 'started_at' and 'ended_at' columns to datetime\n",
    "combined_df['started_at'] = pd.to_datetime(combined_df['started_at'])\n",
    "combined_df['ended_at'] = pd.to_datetime(combined_df['ended_at'])\n"
   ]
  },
  {
   "cell_type": "code",
   "execution_count": 9,
   "id": "bced98ff",
   "metadata": {},
   "outputs": [],
   "source": [
    "#Calculate 'ride_time'\n",
    "combined_df['ride_time']=(combined_df['ended_at']-combined_df['started_at']).dt.total_seconds()/60"
   ]
  },
  {
   "cell_type": "code",
   "execution_count": 10,
   "id": "8e5474f0",
   "metadata": {},
   "outputs": [
    {
     "name": "stdout",
     "output_type": "stream",
     "text": [
      "avg_ride_time: 15.951847989718605\n",
      "max_ride_time: 12136.3\n",
      "min_difference: -54.56666666666667\n"
     ]
    }
   ],
   "source": [
    "#Check if there are outliers\n",
    "avg_time_difference=combined_df['ride_time'].mean()\n",
    "print(\"avg_ride_time:\",avg_time_difference)\n",
    "\n",
    "max_time_difference=combined_df['ride_time'].max()\n",
    "print(\"max_ride_time:\",max_time_difference)\n",
    "\n",
    "min_time_difference=combined_df['ride_time'].min()\n",
    "print(\"min_difference:\",min_time_difference)"
   ]
  },
  {
   "cell_type": "code",
   "execution_count": 11,
   "id": "51027399",
   "metadata": {},
   "outputs": [],
   "source": [
    "#Remove outliers\n",
    "Q1=combined_df['ride_time'].quantile(0.25)\n",
    "Q3=combined_df['ride_time'].quantile(0.75)\n",
    "IQR=Q3-Q1\n",
    "\n",
    "upper_limit=Q3+1.5*IQR\n",
    "lower_limit=Q1-1.5*IQR\n",
    "\n",
    "outliers=combined_df[(combined_df['ride_time']<lower_limit)|(combined_df['ride_time']>upper_limit)]\n",
    "combined_df=combined_df.drop(outliers.index)"
   ]
  },
  {
   "cell_type": "code",
   "execution_count": 12,
   "id": "bbeb340b",
   "metadata": {},
   "outputs": [
    {
     "name": "stdout",
     "output_type": "stream",
     "text": [
      "avg_ride_time: 11.099252043916263\n",
      "max_ride_time: 35.28333333333333\n",
      "min_difference: -11.6\n"
     ]
    }
   ],
   "source": [
    "avg_time_difference=combined_df['ride_time'].mean()\n",
    "print(\"avg_ride_time:\",avg_time_difference)\n",
    "\n",
    "max_time_difference=combined_df['ride_time'].max()\n",
    "print(\"max_ride_time:\",max_time_difference)\n",
    "\n",
    "min_time_difference=combined_df['ride_time'].min()\n",
    "print(\"min_difference:\",min_time_difference)"
   ]
  },
  {
   "cell_type": "code",
   "execution_count": 13,
   "id": "7777e4ca",
   "metadata": {},
   "outputs": [],
   "source": [
    "#The minimum difference is still negative,which doesn't make sense.Any ride_time shorter than 0 should be removed.\n",
    "negative_ride_time=combined_df[(combined_df['ride_time']<0)]\n",
    "combined_df=combined_df.drop(negative_ride_time.index)"
   ]
  },
  {
   "cell_type": "code",
   "execution_count": 14,
   "id": "ae45f026",
   "metadata": {},
   "outputs": [
    {
     "name": "stdout",
     "output_type": "stream",
     "text": [
      "avg_ride_time: 11.09935329848536\n",
      "max_ride_time: 35.28333333333333\n",
      "min_difference: 0.0\n"
     ]
    }
   ],
   "source": [
    "avg_time_difference=combined_df['ride_time'].mean()\n",
    "print(\"avg_ride_time:\",avg_time_difference)\n",
    "\n",
    "max_time_difference=combined_df['ride_time'].max()\n",
    "print(\"max_ride_time:\",max_time_difference)\n",
    "\n",
    "min_time_difference=combined_df['ride_time'].min()\n",
    "print(\"min_difference:\",min_time_difference)"
   ]
  },
  {
   "cell_type": "code",
   "execution_count": 15,
   "id": "f72f8dd4",
   "metadata": {},
   "outputs": [],
   "source": [
    "#Find out the days of the rides\n",
    "combined_df['ride_day']=combined_df['started_at'].dt.day_name()"
   ]
  },
  {
   "cell_type": "code",
   "execution_count": 16,
   "id": "8bc475d8",
   "metadata": {},
   "outputs": [
    {
     "data": {
      "text/html": [
       "<div>\n",
       "<style scoped>\n",
       "    .dataframe tbody tr th:only-of-type {\n",
       "        vertical-align: middle;\n",
       "    }\n",
       "\n",
       "    .dataframe tbody tr th {\n",
       "        vertical-align: top;\n",
       "    }\n",
       "\n",
       "    .dataframe thead th {\n",
       "        text-align: right;\n",
       "    }\n",
       "</style>\n",
       "<table border=\"1\" class=\"dataframe\">\n",
       "  <thead>\n",
       "    <tr style=\"text-align: right;\">\n",
       "      <th></th>\n",
       "      <th>member_casual</th>\n",
       "      <th>count</th>\n",
       "    </tr>\n",
       "  </thead>\n",
       "  <tbody>\n",
       "    <tr>\n",
       "      <th>0</th>\n",
       "      <td>casual</td>\n",
       "      <td>1304663</td>\n",
       "    </tr>\n",
       "    <tr>\n",
       "      <th>1</th>\n",
       "      <td>member</td>\n",
       "      <td>2699013</td>\n",
       "    </tr>\n",
       "  </tbody>\n",
       "</table>\n",
       "</div>"
      ],
      "text/plain": [
       "  member_casual    count\n",
       "0        casual  1304663\n",
       "1        member  2699013"
      ]
     },
     "execution_count": 16,
     "metadata": {},
     "output_type": "execute_result"
    }
   ],
   "source": [
    "#Find out the number of members and casual riders\n",
    "num=combined_df.groupby('member_casual')['ride_id'].size().reset_index(name='count')\n",
    "num"
   ]
  },
  {
   "cell_type": "code",
   "execution_count": 17,
   "id": "daf853d4",
   "metadata": {},
   "outputs": [
    {
     "data": {
      "text/html": [
       "<div>\n",
       "<style scoped>\n",
       "    .dataframe tbody tr th:only-of-type {\n",
       "        vertical-align: middle;\n",
       "    }\n",
       "\n",
       "    .dataframe tbody tr th {\n",
       "        vertical-align: top;\n",
       "    }\n",
       "\n",
       "    .dataframe thead th {\n",
       "        text-align: right;\n",
       "    }\n",
       "</style>\n",
       "<table border=\"1\" class=\"dataframe\">\n",
       "  <thead>\n",
       "    <tr style=\"text-align: right;\">\n",
       "      <th></th>\n",
       "      <th>ride_id</th>\n",
       "      <th>rideable_type</th>\n",
       "      <th>started_at</th>\n",
       "      <th>ended_at</th>\n",
       "      <th>start_station_name</th>\n",
       "      <th>start_station_id</th>\n",
       "      <th>end_station_name</th>\n",
       "      <th>end_station_id</th>\n",
       "      <th>start_lat</th>\n",
       "      <th>start_lng</th>\n",
       "      <th>end_lat</th>\n",
       "      <th>end_lng</th>\n",
       "      <th>member_casual</th>\n",
       "      <th>ride_time</th>\n",
       "      <th>ride_day</th>\n",
       "      <th>start_time</th>\n",
       "    </tr>\n",
       "  </thead>\n",
       "  <tbody>\n",
       "    <tr>\n",
       "      <th>0</th>\n",
       "      <td>F96D5A74A3E41399</td>\n",
       "      <td>electric_bike</td>\n",
       "      <td>2023-01-21 20:05:42</td>\n",
       "      <td>2023-01-21 20:16:33</td>\n",
       "      <td>Lincoln Ave &amp; Fullerton Ave</td>\n",
       "      <td>TA1309000058</td>\n",
       "      <td>Hampden Ct &amp; Diversey Ave</td>\n",
       "      <td>202480.0</td>\n",
       "      <td>41.924074</td>\n",
       "      <td>-87.646278</td>\n",
       "      <td>41.930000</td>\n",
       "      <td>-87.640000</td>\n",
       "      <td>member</td>\n",
       "      <td>10.850000</td>\n",
       "      <td>Saturday</td>\n",
       "      <td>20</td>\n",
       "    </tr>\n",
       "    <tr>\n",
       "      <th>1</th>\n",
       "      <td>13CB7EB698CEDB88</td>\n",
       "      <td>classic_bike</td>\n",
       "      <td>2023-01-10 15:37:36</td>\n",
       "      <td>2023-01-10 15:46:05</td>\n",
       "      <td>Kimbark Ave &amp; 53rd St</td>\n",
       "      <td>TA1309000037</td>\n",
       "      <td>Greenwood Ave &amp; 47th St</td>\n",
       "      <td>TA1308000002</td>\n",
       "      <td>41.799568</td>\n",
       "      <td>-87.594747</td>\n",
       "      <td>41.809835</td>\n",
       "      <td>-87.599383</td>\n",
       "      <td>member</td>\n",
       "      <td>8.483333</td>\n",
       "      <td>Tuesday</td>\n",
       "      <td>15</td>\n",
       "    </tr>\n",
       "    <tr>\n",
       "      <th>2</th>\n",
       "      <td>BD88A2E670661CE5</td>\n",
       "      <td>electric_bike</td>\n",
       "      <td>2023-01-02 07:51:57</td>\n",
       "      <td>2023-01-02 08:05:11</td>\n",
       "      <td>Western Ave &amp; Lunt Ave</td>\n",
       "      <td>RP-005</td>\n",
       "      <td>Valli Produce - Evanston Plaza</td>\n",
       "      <td>599</td>\n",
       "      <td>42.008571</td>\n",
       "      <td>-87.690483</td>\n",
       "      <td>42.039742</td>\n",
       "      <td>-87.699413</td>\n",
       "      <td>casual</td>\n",
       "      <td>13.233333</td>\n",
       "      <td>Monday</td>\n",
       "      <td>7</td>\n",
       "    </tr>\n",
       "    <tr>\n",
       "      <th>3</th>\n",
       "      <td>C90792D034FED968</td>\n",
       "      <td>classic_bike</td>\n",
       "      <td>2023-01-22 10:52:58</td>\n",
       "      <td>2023-01-22 11:01:44</td>\n",
       "      <td>Kimbark Ave &amp; 53rd St</td>\n",
       "      <td>TA1309000037</td>\n",
       "      <td>Greenwood Ave &amp; 47th St</td>\n",
       "      <td>TA1308000002</td>\n",
       "      <td>41.799568</td>\n",
       "      <td>-87.594747</td>\n",
       "      <td>41.809835</td>\n",
       "      <td>-87.599383</td>\n",
       "      <td>member</td>\n",
       "      <td>8.766667</td>\n",
       "      <td>Sunday</td>\n",
       "      <td>10</td>\n",
       "    </tr>\n",
       "    <tr>\n",
       "      <th>4</th>\n",
       "      <td>3397017529188E8A</td>\n",
       "      <td>classic_bike</td>\n",
       "      <td>2023-01-12 13:58:01</td>\n",
       "      <td>2023-01-12 14:13:20</td>\n",
       "      <td>Kimbark Ave &amp; 53rd St</td>\n",
       "      <td>TA1309000037</td>\n",
       "      <td>Greenwood Ave &amp; 47th St</td>\n",
       "      <td>TA1308000002</td>\n",
       "      <td>41.799568</td>\n",
       "      <td>-87.594747</td>\n",
       "      <td>41.809835</td>\n",
       "      <td>-87.599383</td>\n",
       "      <td>member</td>\n",
       "      <td>15.316667</td>\n",
       "      <td>Thursday</td>\n",
       "      <td>13</td>\n",
       "    </tr>\n",
       "  </tbody>\n",
       "</table>\n",
       "</div>"
      ],
      "text/plain": [
       "            ride_id  rideable_type          started_at            ended_at  \\\n",
       "0  F96D5A74A3E41399  electric_bike 2023-01-21 20:05:42 2023-01-21 20:16:33   \n",
       "1  13CB7EB698CEDB88   classic_bike 2023-01-10 15:37:36 2023-01-10 15:46:05   \n",
       "2  BD88A2E670661CE5  electric_bike 2023-01-02 07:51:57 2023-01-02 08:05:11   \n",
       "3  C90792D034FED968   classic_bike 2023-01-22 10:52:58 2023-01-22 11:01:44   \n",
       "4  3397017529188E8A   classic_bike 2023-01-12 13:58:01 2023-01-12 14:13:20   \n",
       "\n",
       "            start_station_name start_station_id  \\\n",
       "0  Lincoln Ave & Fullerton Ave     TA1309000058   \n",
       "1        Kimbark Ave & 53rd St     TA1309000037   \n",
       "2       Western Ave & Lunt Ave           RP-005   \n",
       "3        Kimbark Ave & 53rd St     TA1309000037   \n",
       "4        Kimbark Ave & 53rd St     TA1309000037   \n",
       "\n",
       "                 end_station_name end_station_id  start_lat  start_lng  \\\n",
       "0       Hampden Ct & Diversey Ave       202480.0  41.924074 -87.646278   \n",
       "1         Greenwood Ave & 47th St   TA1308000002  41.799568 -87.594747   \n",
       "2  Valli Produce - Evanston Plaza            599  42.008571 -87.690483   \n",
       "3         Greenwood Ave & 47th St   TA1308000002  41.799568 -87.594747   \n",
       "4         Greenwood Ave & 47th St   TA1308000002  41.799568 -87.594747   \n",
       "\n",
       "     end_lat    end_lng member_casual  ride_time  ride_day  start_time  \n",
       "0  41.930000 -87.640000        member  10.850000  Saturday          20  \n",
       "1  41.809835 -87.599383        member   8.483333   Tuesday          15  \n",
       "2  42.039742 -87.699413        casual  13.233333    Monday           7  \n",
       "3  41.809835 -87.599383        member   8.766667    Sunday          10  \n",
       "4  41.809835 -87.599383        member  15.316667  Thursday          13  "
      ]
     },
     "execution_count": 17,
     "metadata": {},
     "output_type": "execute_result"
    }
   ],
   "source": [
    "#Find out what time in a day bikes are mostly used\n",
    "combined_df['start_time']=combined_df['started_at'].dt.hour\n",
    "combined_df.head()"
   ]
  },
  {
   "cell_type": "code",
   "execution_count": 18,
   "id": "162b171a",
   "metadata": {},
   "outputs": [
    {
     "data": {
      "text/html": [
       "<div>\n",
       "<style scoped>\n",
       "    .dataframe tbody tr th:only-of-type {\n",
       "        vertical-align: middle;\n",
       "    }\n",
       "\n",
       "    .dataframe tbody tr th {\n",
       "        vertical-align: top;\n",
       "    }\n",
       "\n",
       "    .dataframe thead th {\n",
       "        text-align: right;\n",
       "    }\n",
       "</style>\n",
       "<table border=\"1\" class=\"dataframe\">\n",
       "  <thead>\n",
       "    <tr style=\"text-align: right;\">\n",
       "      <th></th>\n",
       "      <th>ride_id</th>\n",
       "      <th>rideable_type</th>\n",
       "      <th>started_at</th>\n",
       "      <th>ended_at</th>\n",
       "      <th>start_station_name</th>\n",
       "      <th>start_station_id</th>\n",
       "      <th>end_station_name</th>\n",
       "      <th>end_station_id</th>\n",
       "      <th>start_lat</th>\n",
       "      <th>start_lng</th>\n",
       "      <th>end_lat</th>\n",
       "      <th>end_lng</th>\n",
       "      <th>member_casual</th>\n",
       "      <th>ride_time</th>\n",
       "      <th>ride_day</th>\n",
       "      <th>start_time</th>\n",
       "      <th>start_month</th>\n",
       "    </tr>\n",
       "  </thead>\n",
       "  <tbody>\n",
       "    <tr>\n",
       "      <th>0</th>\n",
       "      <td>F96D5A74A3E41399</td>\n",
       "      <td>electric_bike</td>\n",
       "      <td>2023-01-21 20:05:42</td>\n",
       "      <td>2023-01-21 20:16:33</td>\n",
       "      <td>Lincoln Ave &amp; Fullerton Ave</td>\n",
       "      <td>TA1309000058</td>\n",
       "      <td>Hampden Ct &amp; Diversey Ave</td>\n",
       "      <td>202480.0</td>\n",
       "      <td>41.924074</td>\n",
       "      <td>-87.646278</td>\n",
       "      <td>41.930000</td>\n",
       "      <td>-87.640000</td>\n",
       "      <td>member</td>\n",
       "      <td>10.850000</td>\n",
       "      <td>Saturday</td>\n",
       "      <td>20</td>\n",
       "      <td>1</td>\n",
       "    </tr>\n",
       "    <tr>\n",
       "      <th>1</th>\n",
       "      <td>13CB7EB698CEDB88</td>\n",
       "      <td>classic_bike</td>\n",
       "      <td>2023-01-10 15:37:36</td>\n",
       "      <td>2023-01-10 15:46:05</td>\n",
       "      <td>Kimbark Ave &amp; 53rd St</td>\n",
       "      <td>TA1309000037</td>\n",
       "      <td>Greenwood Ave &amp; 47th St</td>\n",
       "      <td>TA1308000002</td>\n",
       "      <td>41.799568</td>\n",
       "      <td>-87.594747</td>\n",
       "      <td>41.809835</td>\n",
       "      <td>-87.599383</td>\n",
       "      <td>member</td>\n",
       "      <td>8.483333</td>\n",
       "      <td>Tuesday</td>\n",
       "      <td>15</td>\n",
       "      <td>1</td>\n",
       "    </tr>\n",
       "    <tr>\n",
       "      <th>2</th>\n",
       "      <td>BD88A2E670661CE5</td>\n",
       "      <td>electric_bike</td>\n",
       "      <td>2023-01-02 07:51:57</td>\n",
       "      <td>2023-01-02 08:05:11</td>\n",
       "      <td>Western Ave &amp; Lunt Ave</td>\n",
       "      <td>RP-005</td>\n",
       "      <td>Valli Produce - Evanston Plaza</td>\n",
       "      <td>599</td>\n",
       "      <td>42.008571</td>\n",
       "      <td>-87.690483</td>\n",
       "      <td>42.039742</td>\n",
       "      <td>-87.699413</td>\n",
       "      <td>casual</td>\n",
       "      <td>13.233333</td>\n",
       "      <td>Monday</td>\n",
       "      <td>7</td>\n",
       "      <td>1</td>\n",
       "    </tr>\n",
       "    <tr>\n",
       "      <th>3</th>\n",
       "      <td>C90792D034FED968</td>\n",
       "      <td>classic_bike</td>\n",
       "      <td>2023-01-22 10:52:58</td>\n",
       "      <td>2023-01-22 11:01:44</td>\n",
       "      <td>Kimbark Ave &amp; 53rd St</td>\n",
       "      <td>TA1309000037</td>\n",
       "      <td>Greenwood Ave &amp; 47th St</td>\n",
       "      <td>TA1308000002</td>\n",
       "      <td>41.799568</td>\n",
       "      <td>-87.594747</td>\n",
       "      <td>41.809835</td>\n",
       "      <td>-87.599383</td>\n",
       "      <td>member</td>\n",
       "      <td>8.766667</td>\n",
       "      <td>Sunday</td>\n",
       "      <td>10</td>\n",
       "      <td>1</td>\n",
       "    </tr>\n",
       "    <tr>\n",
       "      <th>4</th>\n",
       "      <td>3397017529188E8A</td>\n",
       "      <td>classic_bike</td>\n",
       "      <td>2023-01-12 13:58:01</td>\n",
       "      <td>2023-01-12 14:13:20</td>\n",
       "      <td>Kimbark Ave &amp; 53rd St</td>\n",
       "      <td>TA1309000037</td>\n",
       "      <td>Greenwood Ave &amp; 47th St</td>\n",
       "      <td>TA1308000002</td>\n",
       "      <td>41.799568</td>\n",
       "      <td>-87.594747</td>\n",
       "      <td>41.809835</td>\n",
       "      <td>-87.599383</td>\n",
       "      <td>member</td>\n",
       "      <td>15.316667</td>\n",
       "      <td>Thursday</td>\n",
       "      <td>13</td>\n",
       "      <td>1</td>\n",
       "    </tr>\n",
       "  </tbody>\n",
       "</table>\n",
       "</div>"
      ],
      "text/plain": [
       "            ride_id  rideable_type          started_at            ended_at  \\\n",
       "0  F96D5A74A3E41399  electric_bike 2023-01-21 20:05:42 2023-01-21 20:16:33   \n",
       "1  13CB7EB698CEDB88   classic_bike 2023-01-10 15:37:36 2023-01-10 15:46:05   \n",
       "2  BD88A2E670661CE5  electric_bike 2023-01-02 07:51:57 2023-01-02 08:05:11   \n",
       "3  C90792D034FED968   classic_bike 2023-01-22 10:52:58 2023-01-22 11:01:44   \n",
       "4  3397017529188E8A   classic_bike 2023-01-12 13:58:01 2023-01-12 14:13:20   \n",
       "\n",
       "            start_station_name start_station_id  \\\n",
       "0  Lincoln Ave & Fullerton Ave     TA1309000058   \n",
       "1        Kimbark Ave & 53rd St     TA1309000037   \n",
       "2       Western Ave & Lunt Ave           RP-005   \n",
       "3        Kimbark Ave & 53rd St     TA1309000037   \n",
       "4        Kimbark Ave & 53rd St     TA1309000037   \n",
       "\n",
       "                 end_station_name end_station_id  start_lat  start_lng  \\\n",
       "0       Hampden Ct & Diversey Ave       202480.0  41.924074 -87.646278   \n",
       "1         Greenwood Ave & 47th St   TA1308000002  41.799568 -87.594747   \n",
       "2  Valli Produce - Evanston Plaza            599  42.008571 -87.690483   \n",
       "3         Greenwood Ave & 47th St   TA1308000002  41.799568 -87.594747   \n",
       "4         Greenwood Ave & 47th St   TA1308000002  41.799568 -87.594747   \n",
       "\n",
       "     end_lat    end_lng member_casual  ride_time  ride_day  start_time  \\\n",
       "0  41.930000 -87.640000        member  10.850000  Saturday          20   \n",
       "1  41.809835 -87.599383        member   8.483333   Tuesday          15   \n",
       "2  42.039742 -87.699413        casual  13.233333    Monday           7   \n",
       "3  41.809835 -87.599383        member   8.766667    Sunday          10   \n",
       "4  41.809835 -87.599383        member  15.316667  Thursday          13   \n",
       "\n",
       "   start_month  \n",
       "0            1  \n",
       "1            1  \n",
       "2            1  \n",
       "3            1  \n",
       "4            1  "
      ]
     },
     "execution_count": 18,
     "metadata": {},
     "output_type": "execute_result"
    }
   ],
   "source": [
    "#Find out in what month bikes are mostly used\n",
    "combined_df['start_month']=combined_df['started_at'].dt.month\n",
    "combined_df.head()"
   ]
  },
  {
   "cell_type": "code",
   "execution_count": 19,
   "id": "937cb166",
   "metadata": {},
   "outputs": [],
   "source": [
    "selected_columns=['member_casual','ride_time','ride_day','start_time','start_month']\n",
    "df_copy=combined_df[selected_columns].copy()\n",
    "df_copy['member_casual']=df_copy['member_casual'].map({'member': 1, 'casual': 0})\n",
    "df_copy['ride_day']=df_copy['ride_day'].map({'Sunday': 0, 'Monday': 1,'Tuesday':2,'Wednesday':3,'Thursday':4,'Friday':5,'Saturday':6})"
   ]
  },
  {
   "cell_type": "code",
   "execution_count": 20,
   "id": "5428f301",
   "metadata": {},
   "outputs": [
    {
     "data": {
      "text/html": [
       "<div>\n",
       "<style scoped>\n",
       "    .dataframe tbody tr th:only-of-type {\n",
       "        vertical-align: middle;\n",
       "    }\n",
       "\n",
       "    .dataframe tbody tr th {\n",
       "        vertical-align: top;\n",
       "    }\n",
       "\n",
       "    .dataframe thead th {\n",
       "        text-align: right;\n",
       "    }\n",
       "</style>\n",
       "<table border=\"1\" class=\"dataframe\">\n",
       "  <thead>\n",
       "    <tr style=\"text-align: right;\">\n",
       "      <th></th>\n",
       "      <th>member_casual</th>\n",
       "      <th>ride_time</th>\n",
       "      <th>ride_day</th>\n",
       "      <th>start_time</th>\n",
       "      <th>start_month</th>\n",
       "    </tr>\n",
       "  </thead>\n",
       "  <tbody>\n",
       "    <tr>\n",
       "      <th>0</th>\n",
       "      <td>1</td>\n",
       "      <td>10.850000</td>\n",
       "      <td>6</td>\n",
       "      <td>20</td>\n",
       "      <td>1</td>\n",
       "    </tr>\n",
       "    <tr>\n",
       "      <th>1</th>\n",
       "      <td>1</td>\n",
       "      <td>8.483333</td>\n",
       "      <td>2</td>\n",
       "      <td>15</td>\n",
       "      <td>1</td>\n",
       "    </tr>\n",
       "    <tr>\n",
       "      <th>2</th>\n",
       "      <td>0</td>\n",
       "      <td>13.233333</td>\n",
       "      <td>1</td>\n",
       "      <td>7</td>\n",
       "      <td>1</td>\n",
       "    </tr>\n",
       "    <tr>\n",
       "      <th>3</th>\n",
       "      <td>1</td>\n",
       "      <td>8.766667</td>\n",
       "      <td>0</td>\n",
       "      <td>10</td>\n",
       "      <td>1</td>\n",
       "    </tr>\n",
       "    <tr>\n",
       "      <th>4</th>\n",
       "      <td>1</td>\n",
       "      <td>15.316667</td>\n",
       "      <td>4</td>\n",
       "      <td>13</td>\n",
       "      <td>1</td>\n",
       "    </tr>\n",
       "    <tr>\n",
       "      <th>...</th>\n",
       "      <td>...</td>\n",
       "      <td>...</td>\n",
       "      <td>...</td>\n",
       "      <td>...</td>\n",
       "      <td>...</td>\n",
       "    </tr>\n",
       "    <tr>\n",
       "      <th>5719872</th>\n",
       "      <td>0</td>\n",
       "      <td>2.216667</td>\n",
       "      <td>4</td>\n",
       "      <td>13</td>\n",
       "      <td>12</td>\n",
       "    </tr>\n",
       "    <tr>\n",
       "      <th>5719873</th>\n",
       "      <td>0</td>\n",
       "      <td>3.583333</td>\n",
       "      <td>5</td>\n",
       "      <td>18</td>\n",
       "      <td>12</td>\n",
       "    </tr>\n",
       "    <tr>\n",
       "      <th>5719874</th>\n",
       "      <td>1</td>\n",
       "      <td>3.833333</td>\n",
       "      <td>2</td>\n",
       "      <td>14</td>\n",
       "      <td>12</td>\n",
       "    </tr>\n",
       "    <tr>\n",
       "      <th>5719875</th>\n",
       "      <td>0</td>\n",
       "      <td>17.633333</td>\n",
       "      <td>6</td>\n",
       "      <td>21</td>\n",
       "      <td>12</td>\n",
       "    </tr>\n",
       "    <tr>\n",
       "      <th>5719876</th>\n",
       "      <td>1</td>\n",
       "      <td>3.633333</td>\n",
       "      <td>1</td>\n",
       "      <td>13</td>\n",
       "      <td>12</td>\n",
       "    </tr>\n",
       "  </tbody>\n",
       "</table>\n",
       "<p>4003676 rows × 5 columns</p>\n",
       "</div>"
      ],
      "text/plain": [
       "         member_casual  ride_time  ride_day  start_time  start_month\n",
       "0                    1  10.850000         6          20            1\n",
       "1                    1   8.483333         2          15            1\n",
       "2                    0  13.233333         1           7            1\n",
       "3                    1   8.766667         0          10            1\n",
       "4                    1  15.316667         4          13            1\n",
       "...                ...        ...       ...         ...          ...\n",
       "5719872              0   2.216667         4          13           12\n",
       "5719873              0   3.583333         5          18           12\n",
       "5719874              1   3.833333         2          14           12\n",
       "5719875              0  17.633333         6          21           12\n",
       "5719876              1   3.633333         1          13           12\n",
       "\n",
       "[4003676 rows x 5 columns]"
      ]
     },
     "execution_count": 20,
     "metadata": {},
     "output_type": "execute_result"
    }
   ],
   "source": [
    "df_copy"
   ]
  },
  {
   "cell_type": "code",
   "execution_count": 21,
   "id": "c5f1cada",
   "metadata": {},
   "outputs": [
    {
     "data": {
      "text/plain": [
       "member_casual\n",
       "1    0.674134\n",
       "0    0.325866\n",
       "Name: proportion, dtype: float64"
      ]
     },
     "execution_count": 21,
     "metadata": {},
     "output_type": "execute_result"
    }
   ],
   "source": [
    "df_copy['member_casual'].value_counts(normalize=True)"
   ]
  },
  {
   "cell_type": "code",
   "execution_count": 22,
   "id": "b9dd1795",
   "metadata": {},
   "outputs": [],
   "source": [
    "#Since 'casual' feature only had 33% riders out of total riders, this make our 'Churn' feature imbalance. \n",
    "#In this case, I will apply oversampling method to balance the dataset.\n",
    "data_majority=df_copy[df_copy['member_casual']==1]\n",
    "data_minority=df_copy[df_copy['member_casual']==0]\n",
    "\n",
    "data_minority_upsampled=resample(data_minority,replace=True,n_samples=len(data_majority),random_state=0)\n",
    "\n",
    "data_upsampled=pd.concat([data_majority,data_minority_upsampled]).reset_index(drop=True)"
   ]
  },
  {
   "cell_type": "code",
   "execution_count": 23,
   "id": "187d7734",
   "metadata": {},
   "outputs": [
    {
     "data": {
      "text/plain": [
       "member_casual\n",
       "1    2699013\n",
       "0    2699013\n",
       "Name: count, dtype: int64"
      ]
     },
     "execution_count": 23,
     "metadata": {},
     "output_type": "execute_result"
    }
   ],
   "source": [
    "data_upsampled['member_casual'].value_counts()"
   ]
  },
  {
   "cell_type": "code",
   "execution_count": 24,
   "id": "3bce8e66",
   "metadata": {},
   "outputs": [
    {
     "data": {
      "text/html": [
       "<div>\n",
       "<style scoped>\n",
       "    .dataframe tbody tr th:only-of-type {\n",
       "        vertical-align: middle;\n",
       "    }\n",
       "\n",
       "    .dataframe tbody tr th {\n",
       "        vertical-align: top;\n",
       "    }\n",
       "\n",
       "    .dataframe thead th {\n",
       "        text-align: right;\n",
       "    }\n",
       "</style>\n",
       "<table border=\"1\" class=\"dataframe\">\n",
       "  <thead>\n",
       "    <tr style=\"text-align: right;\">\n",
       "      <th></th>\n",
       "      <th>member_casual</th>\n",
       "      <th>ride_time</th>\n",
       "      <th>ride_day</th>\n",
       "      <th>start_time</th>\n",
       "      <th>start_month</th>\n",
       "    </tr>\n",
       "  </thead>\n",
       "  <tbody>\n",
       "    <tr>\n",
       "      <th>member_casual</th>\n",
       "      <td>1.000000</td>\n",
       "      <td>-0.158319</td>\n",
       "      <td>-0.034373</td>\n",
       "      <td>-0.058584</td>\n",
       "      <td>-0.019710</td>\n",
       "    </tr>\n",
       "    <tr>\n",
       "      <th>ride_time</th>\n",
       "      <td>-0.158319</td>\n",
       "      <td>1.000000</td>\n",
       "      <td>0.017084</td>\n",
       "      <td>0.063267</td>\n",
       "      <td>0.019284</td>\n",
       "    </tr>\n",
       "    <tr>\n",
       "      <th>ride_day</th>\n",
       "      <td>-0.034373</td>\n",
       "      <td>0.017084</td>\n",
       "      <td>1.000000</td>\n",
       "      <td>0.034515</td>\n",
       "      <td>0.012184</td>\n",
       "    </tr>\n",
       "    <tr>\n",
       "      <th>start_time</th>\n",
       "      <td>-0.058584</td>\n",
       "      <td>0.063267</td>\n",
       "      <td>0.034515</td>\n",
       "      <td>1.000000</td>\n",
       "      <td>-0.004084</td>\n",
       "    </tr>\n",
       "    <tr>\n",
       "      <th>start_month</th>\n",
       "      <td>-0.019710</td>\n",
       "      <td>0.019284</td>\n",
       "      <td>0.012184</td>\n",
       "      <td>-0.004084</td>\n",
       "      <td>1.000000</td>\n",
       "    </tr>\n",
       "  </tbody>\n",
       "</table>\n",
       "</div>"
      ],
      "text/plain": [
       "               member_casual  ride_time  ride_day  start_time  start_month\n",
       "member_casual       1.000000  -0.158319 -0.034373   -0.058584    -0.019710\n",
       "ride_time          -0.158319   1.000000  0.017084    0.063267     0.019284\n",
       "ride_day           -0.034373   0.017084  1.000000    0.034515     0.012184\n",
       "start_time         -0.058584   0.063267  0.034515    1.000000    -0.004084\n",
       "start_month        -0.019710   0.019284  0.012184   -0.004084     1.000000"
      ]
     },
     "execution_count": 24,
     "metadata": {},
     "output_type": "execute_result"
    }
   ],
   "source": [
    "#Check if there is severe multicollinearity among the features.\n",
    "\n",
    "data_upsampled.corr(numeric_only=True)"
   ]
  },
  {
   "cell_type": "code",
   "execution_count": 25,
   "id": "9b8f25a7",
   "metadata": {},
   "outputs": [],
   "source": [
    "# Select outcome variable\n",
    "y=data_upsampled['member_casual']"
   ]
  },
  {
   "cell_type": "code",
   "execution_count": 26,
   "id": "6a22b0b3",
   "metadata": {},
   "outputs": [],
   "source": [
    "#Select features\n",
    "X = data_upsampled[['ride_time','ride_day','start_time','start_month']]"
   ]
  },
  {
   "cell_type": "code",
   "execution_count": 27,
   "id": "d928058f",
   "metadata": {},
   "outputs": [],
   "source": [
    "# Split the data into training and testing sets\n",
    "X_train, X_test, y_train, y_test = train_test_split(X, y, test_size=0.25,random_state=0)"
   ]
  },
  {
   "cell_type": "code",
   "execution_count": 28,
   "id": "6d0ee7c7",
   "metadata": {},
   "outputs": [
    {
     "data": {
      "text/plain": [
       "((4048519, 4), (1349507, 4), (4048519,), (1349507,))"
      ]
     },
     "execution_count": 28,
     "metadata": {},
     "output_type": "execute_result"
    }
   ],
   "source": [
    "X_train.shape, X_test.shape, y_train.shape, y_test.shape"
   ]
  },
  {
   "cell_type": "code",
   "execution_count": 29,
   "id": "79a2054f",
   "metadata": {},
   "outputs": [],
   "source": [
    "# Construct a logistic regression model and fit it to the training set\n",
    "\n",
    "log_clf = LogisticRegression(random_state=0, max_iter=800).fit(X_train,y_train)"
   ]
  },
  {
   "cell_type": "code",
   "execution_count": 30,
   "id": "762ed280",
   "metadata": {},
   "outputs": [],
   "source": [
    "# Use the logistic regression model to get predictions on the testing set\n",
    "y_pred = log_clf.predict(X_test)"
   ]
  },
  {
   "cell_type": "code",
   "execution_count": 31,
   "id": "d87fe49b",
   "metadata": {},
   "outputs": [
    {
     "data": {
      "image/png": "[encoded data removed]",
      "text/plain": [
       "<Figure size 640x480 with 2 Axes>"
      ]
     },
     "metadata": {},
     "output_type": "display_data"
    }
   ],
   "source": [
    "# Compute values for confusion matrix\n",
    "log_cm = confusion_matrix(y_test, y_pred, labels=log_clf.classes_)\n",
    "\n",
    "# Create display of confusion matrix\n",
    "log_disp = ConfusionMatrixDisplay(confusion_matrix=log_cm,display_labels=log_clf.classes_)\n",
    "\n",
    "# Plot confusion matrix\n",
    "log_disp.plot()\n",
    "\n",
    "# Display plot\n",
    "plt.show()"
   ]
  },
  {
   "cell_type": "code",
   "execution_count": 32,
   "id": "306f94fb",
   "metadata": {},
   "outputs": [
    {
     "name": "stdout",
     "output_type": "stream",
     "text": [
      "Model Accuracy: 0.5753715986652903\n",
      "              precision    recall  f1-score   support\n",
      "\n",
      "      member       0.59      0.50      0.54    674764\n",
      "      casual       0.57      0.65      0.60    674743\n",
      "\n",
      "    accuracy                           0.58   1349507\n",
      "   macro avg       0.58      0.58      0.57   1349507\n",
      "weighted avg       0.58      0.58      0.57   1349507\n",
      "\n"
     ]
    }
   ],
   "source": [
    "#Find out the logistic regrssion model metrics\n",
    "target_labels = ['member', 'casual']\n",
    "accuracy = accuracy_score(y_test, y_pred)\n",
    "print(f\"Model Accuracy: {accuracy}\")\n",
    "print(classification_report(y_test, y_pred, target_names=target_labels))"
   ]
  },
  {
   "cell_type": "code",
   "execution_count": 33,
   "id": "d30a83b6",
   "metadata": {},
   "outputs": [
    {
     "name": "stdout",
     "output_type": "stream",
     "text": [
      "Accuracy: 0.6945617918247182\n",
      "              precision    recall  f1-score   support\n",
      "\n",
      "      member       0.66      0.81      0.73    674764\n",
      "      casual       0.75      0.58      0.66    674743\n",
      "\n",
      "    accuracy                           0.69   1349507\n",
      "   macro avg       0.70      0.69      0.69   1349507\n",
      "weighted avg       0.70      0.69      0.69   1349507\n",
      "\n"
     ]
    }
   ],
   "source": [
    "#Build a decision trees model and fing out its metrics\n",
    "clf = DecisionTreeClassifier(criterion='gini', max_depth=None, random_state=0)\n",
    "clf.fit(X_train, y_train)\n",
    "y_pred = clf.predict(X_test)\n",
    "accuracy = accuracy_score(y_test, y_pred)\n",
    "target_labels = ['member', 'casual']\n",
    "\n",
    "print(f\"Accuracy: {accuracy}\")\n",
    "print(classification_report(y_test, y_pred, target_names=target_labels))"
   ]
  },
  {
   "cell_type": "code",
   "execution_count": 35,
   "id": "4f1403cd",
   "metadata": {},
   "outputs": [
    {
     "name": "stdout",
     "output_type": "stream",
     "text": [
      "Accuracy: 0.6898319163961357\n",
      "              precision    recall  f1-score   support\n",
      "\n",
      "      member       0.67      0.75      0.71    674764\n",
      "      casual       0.72      0.63      0.67    674743\n",
      "\n",
      "    accuracy                           0.69   1349507\n",
      "   macro avg       0.69      0.69      0.69   1349507\n",
      "weighted avg       0.69      0.69      0.69   1349507\n",
      "\n"
     ]
    }
   ],
   "source": [
    "#Build a random forest model and fing out its metrics\n",
    "model =RandomForestClassifier(n_estimators=50,random_state=0)\n",
    "model.fit(X_train, y_train)\n",
    "\n",
    "y_pred = model.predict(X_test)\n",
    "\n",
    "accuracy = accuracy_score(y_test, y_pred)\n",
    "target_labels = ['member', 'casual']\n",
    "\n",
    "print(f\"Accuracy: {accuracy}\")\n",
    "print(classification_report(y_test, y_pred, target_names=target_labels))"
   ]
  },
  {
   "cell_type": "code",
   "execution_count": 46,
   "id": "dbac29fb",
   "metadata": {},
   "outputs": [
    {
     "name": "stdout",
     "output_type": "stream",
     "text": [
      "Accuracy: 0.6899556652911026\n",
      "              precision    recall  f1-score   support\n",
      "\n",
      "      member       0.67      0.75      0.71    674764\n",
      "      casual       0.72      0.63      0.67    674743\n",
      "\n",
      "    accuracy                           0.69   1349507\n",
      "   macro avg       0.69      0.69      0.69   1349507\n",
      "weighted avg       0.69      0.69      0.69   1349507\n",
      "\n"
     ]
    }
   ],
   "source": [
    "model =RandomForestClassifier(n_estimators=100,n_jobs=-1,random_state=0)\n",
    "model.fit(X_train, y_train)\n",
    "\n",
    "y_pred = model.predict(X_test)\n",
    "\n",
    "accuracy = accuracy_score(y_test, y_pred)\n",
    "target_labels = ['member', 'casual']\n",
    "\n",
    "print(f\"Accuracy: {accuracy}\")\n",
    "print(classification_report(y_test, y_pred, target_names=target_labels))"
   ]
  },
  {
   "cell_type": "markdown",
   "id": "2f796eb5",
   "metadata": {},
   "source": [
    "### Conclusion"
   ]
  },
  {
   "cell_type": "markdown",
   "id": "54081d02",
   "metadata": {},
   "source": [
    "We tried using logistic regression,decision trees and random forest models to predict whether a rider would become a member based on how long and when they ride.Since missing a casual rider has greater consequences,not only is accuracy important, recall is worth paying attention to as well.In this case,decision trees model has the highest accuracy and recall(about 69%),which translates into decent predictive power."
   ]
  },
  {
   "cell_type": "code",
   "execution_count": null,
   "id": "348aee5a",
   "metadata": {},
   "outputs": [],
   "source": []
  }
 ],
 "metadata": {
  "kernelspec": {
   "display_name": "Python 3 (ipykernel)",
   "language": "python",
   "name": "python3"
  },
  "language_info": {
   "codemirror_mode": {
    "name": "ipython",
    "version": 3
   },
   "file_extension": ".py",
   "mimetype": "text/x-python",
   "name": "python",
   "nbconvert_exporter": "python",
   "pygments_lexer": "ipython3",
   "version": "3.11.5"
  }
 },
 "nbformat": 4,
 "nbformat_minor": 5
}
